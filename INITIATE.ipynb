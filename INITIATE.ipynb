{
 "cells": [
  {
   "cell_type": "markdown",
   "metadata": {},
   "source": [
    "About:\n",
    "- Students who didn't pass last term\n",
    "- They need more assignments/classworks\n",
    "- Abo El Farag - Needs discussion!!!!!!\n",
    "- 1 Class - Same Syllabus"
   ]
  },
  {
   "cell_type": "markdown",
   "metadata": {},
   "source": [
    "Workflow initialization:\n",
    "- 2 Modules each Section\n",
    "    - Section\n",
    "    - Lab\n",
    "\n",
    "- Section Content:\n",
    "    - Section 1:\n",
    "        - Introduction 15 mins: What is ML? Why use ML? Types of ML Systems Main Challenges of ML \n",
    "        - Classwork 10 mins!\n",
    "        - Pandas Data Manipulation and Model Creation Sklearn\n",
    "            - Assignments on Pandas!\n",
    "        - Team Seperation\n",
    "    - Section 2:\n",
    "        - Examples:\n",
    "            - Linear Regression\n",
    "            - Gradient Descent\n",
    "        - Just Concepts:\n",
    "            - Complexity\n",
    "        - Code: \n",
    "            - Refresh about data manipulation\n",
    "            - Stochastic Grad.\n",
    "            - Mini-Batch\n",
    "    - Section 3:\n",
    "        - Codes & Concepts:\n",
    "            - Polynomial Regression\n",
    "            - Learning Curves\n",
    "            - Regularization"
   ]
  },
  {
   "cell_type": "code",
   "execution_count": null,
   "metadata": {},
   "outputs": [],
   "source": []
  }
 ],
 "metadata": {
  "kernelspec": {
   "display_name": "mitocluster",
   "language": "python",
   "name": "python3"
  },
  "language_info": {
   "name": "python",
   "version": "3.11.5"
  }
 },
 "nbformat": 4,
 "nbformat_minor": 2
}

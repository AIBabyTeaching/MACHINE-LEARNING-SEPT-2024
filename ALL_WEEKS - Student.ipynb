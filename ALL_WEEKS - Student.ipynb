{
 "cells": [
  {
   "cell_type": "code",
   "execution_count": 16,
   "metadata": {},
   "outputs": [],
   "source": [
    "import chime, warnings,time\n",
    "chime.notify_exceptions()\n",
    "warnings.filterwarnings('ignore')"
   ]
  },
  {
   "cell_type": "markdown",
   "metadata": {},
   "source": [
    "# Required Dependencies for the whole notebook"
   ]
  },
  {
   "cell_type": "code",
   "execution_count": 1,
   "metadata": {},
   "outputs": [],
   "source": [
    "# Data Science basic imports\n",
    "import pandas as pd, numpy as np, seaborn as sb, matplotlib.pyplot as plt, matplotlib.dates as mdates\n",
    "# ML Data Preprocessing imports\n",
    "from sklearn.metrics import mean_squared_error\n",
    "from sklearn.neighbors import KNeighborsClassifier as KNN\n",
    "from sklearn.tree import DecisionTreeClassifier\n",
    "from sklearn.ensemble import RandomForestClassifier, AdaBoostClassifier\n",
    "from sklearn.model_selection import train_test_split, cross_val_score, KFold\n",
    "from sklearn.preprocessing import LabelEncoder, StandardScaler # Z-Score\n",
    "from sklearn.linear_model import LinearRegression, LogisticRegression, LassoCV, RidgeCV, ElasticNetCV\n",
    "from sklearn.metrics import accuracy_score, classification_report, confusion_matrix"
   ]
  },
  {
   "cell_type": "markdown",
   "metadata": {},
   "source": [
    "# Business Understanding - Data Understanding - Data Preparation - EDA"
   ]
  },
  {
   "cell_type": "markdown",
   "metadata": {},
   "source": [
    "<img src = 'datasc-660x434.png'>"
   ]
  },
  {
   "cell_type": "markdown",
   "metadata": {},
   "source": [
    "# Regression Problem"
   ]
  },
  {
   "cell_type": "markdown",
   "metadata": {},
   "source": [
    "The business problem is understanding the COVID-19.The cumulative count of confirmed, death and recovered cases of COVID-19 from different countries from 22nd January 2020\n",
    "1. Collecting data https://www.kaggle.com/datasets/imdevskp/corona-virus-report?select=covid_19_clean_complete.csv\n",
    "- [Note: the downloaded file is in .zip, we need to unzip it then import it as csv]\n",
    "2. Understanding the data by using the traditional Python data science modules. "
   ]
  },
  {
   "cell_type": "markdown",
   "metadata": {},
   "source": [
    "In this notebook, we will walkthrough the pandas library which is used for data wrangling tasks: data assessing, data coding and data cleaning. This is a part of business & data understanding and preparation. [Note: Best practice is always to import os module along with numpy]\n",
    "\n",
    "- Importing data and dealing with data with different formats: CSV, JSON, TSV, XLSX, TXT, HTML and etc ...\n",
    "  - pd.read_csv('FILENAME.CSV')\n",
    "  - pd.read_excel('FILENAME.XLSX',sheet = n) # where n is the sheet number \n",
    "- Functions and command to assess the data\n",
    "  - head(n): Finding n top rows\n",
    "  - tail(n): Finding n bottom rows\n",
    "  - sample(n): Finding n sample of data\n",
    "  - info(): get an overall information about the data attributes/types/missing values\n",
    "  - shape: finding the shape of data in rows x columns\n",
    "  - describe(): find statistical measures about your data including: mean, std, Q1,2,3,4 and range, and mode and median.\n",
    "  - plot(): plotting the data\n",
    "- Creating a data frame or a data series\n",
    "  - DataFrame({'COL1_NAME': [Values],'COL2_NAME': [Values]})\n",
    "  - Series({'INDEX_NAME': [Values]})\n",
    "- Important functions and cheatsheet check [Cheatsheet](./Pandas_Cheat_Sheet.pdf)\n",
    "  - lambda function\n",
    "  - join\n",
    "  - melt\n",
    "  - merge\n",
    "  - concatenate\n",
    "  and etc ..."
   ]
  },
  {
   "cell_type": "markdown",
   "metadata": {},
   "source": [
    "## Wrangling Process [Data Understanding & Data Preparation]\n",
    "- Importing the data and the required modules\n",
    "- Assessing the data\n",
    "- Documenting the observations\n",
    "- Taking action and decision regarding wrangling the data"
   ]
  },
  {
   "cell_type": "code",
   "execution_count": 78,
   "metadata": {},
   "outputs": [],
   "source": [
    "# Hint use pd.read_csv(filename, compression = 'zip')\n",
    "# file name is covid_19_clean_complete.csv.zip\n",
    "# Unzipping the data file since it is a zip file we add attribute compression = 'zip'\n",
    "..."
   ]
  },
  {
   "cell_type": "code",
   "execution_count": 79,
   "metadata": {},
   "outputs": [],
   "source": [
    "pd.set_option('display.max_rows',None,'display.max_colwidth',None,'display.max_columns',None)"
   ]
  },
  {
   "cell_type": "code",
   "execution_count": 80,
   "metadata": {},
   "outputs": [
    {
     "data": {
      "text/html": [
       "<div>\n",
       "<style scoped>\n",
       "    .dataframe tbody tr th:only-of-type {\n",
       "        vertical-align: middle;\n",
       "    }\n",
       "\n",
       "    .dataframe tbody tr th {\n",
       "        vertical-align: top;\n",
       "    }\n",
       "\n",
       "    .dataframe thead th {\n",
       "        text-align: right;\n",
       "    }\n",
       "</style>\n",
       "<table border=\"1\" class=\"dataframe\">\n",
       "  <thead>\n",
       "    <tr style=\"text-align: right;\">\n",
       "      <th></th>\n",
       "      <th>Province/State</th>\n",
       "      <th>Country/Region</th>\n",
       "      <th>Lat</th>\n",
       "      <th>Long</th>\n",
       "      <th>Date</th>\n",
       "      <th>Confirmed</th>\n",
       "      <th>Deaths</th>\n",
       "      <th>Recovered</th>\n",
       "      <th>Active</th>\n",
       "      <th>WHO Region</th>\n",
       "    </tr>\n",
       "  </thead>\n",
       "  <tbody>\n",
       "    <tr>\n",
       "      <th>0</th>\n",
       "      <td>NaN</td>\n",
       "      <td>Afghanistan</td>\n",
       "      <td>33.93911</td>\n",
       "      <td>67.709953</td>\n",
       "      <td>2020-01-22</td>\n",
       "      <td>0</td>\n",
       "      <td>0</td>\n",
       "      <td>0</td>\n",
       "      <td>0</td>\n",
       "      <td>Eastern Mediterranean</td>\n",
       "    </tr>\n",
       "    <tr>\n",
       "      <th>1</th>\n",
       "      <td>NaN</td>\n",
       "      <td>Albania</td>\n",
       "      <td>41.15330</td>\n",
       "      <td>20.168300</td>\n",
       "      <td>2020-01-22</td>\n",
       "      <td>0</td>\n",
       "      <td>0</td>\n",
       "      <td>0</td>\n",
       "      <td>0</td>\n",
       "      <td>Europe</td>\n",
       "    </tr>\n",
       "    <tr>\n",
       "      <th>2</th>\n",
       "      <td>NaN</td>\n",
       "      <td>Algeria</td>\n",
       "      <td>28.03390</td>\n",
       "      <td>1.659600</td>\n",
       "      <td>2020-01-22</td>\n",
       "      <td>0</td>\n",
       "      <td>0</td>\n",
       "      <td>0</td>\n",
       "      <td>0</td>\n",
       "      <td>Africa</td>\n",
       "    </tr>\n",
       "    <tr>\n",
       "      <th>3</th>\n",
       "      <td>NaN</td>\n",
       "      <td>Andorra</td>\n",
       "      <td>42.50630</td>\n",
       "      <td>1.521800</td>\n",
       "      <td>2020-01-22</td>\n",
       "      <td>0</td>\n",
       "      <td>0</td>\n",
       "      <td>0</td>\n",
       "      <td>0</td>\n",
       "      <td>Europe</td>\n",
       "    </tr>\n",
       "    <tr>\n",
       "      <th>4</th>\n",
       "      <td>NaN</td>\n",
       "      <td>Angola</td>\n",
       "      <td>-11.20270</td>\n",
       "      <td>17.873900</td>\n",
       "      <td>2020-01-22</td>\n",
       "      <td>0</td>\n",
       "      <td>0</td>\n",
       "      <td>0</td>\n",
       "      <td>0</td>\n",
       "      <td>Africa</td>\n",
       "    </tr>\n",
       "  </tbody>\n",
       "</table>\n",
       "</div>"
      ],
      "text/plain": [
       "  Province/State Country/Region       Lat       Long        Date  Confirmed  \\\n",
       "0            NaN    Afghanistan  33.93911  67.709953  2020-01-22          0   \n",
       "1            NaN        Albania  41.15330  20.168300  2020-01-22          0   \n",
       "2            NaN        Algeria  28.03390   1.659600  2020-01-22          0   \n",
       "3            NaN        Andorra  42.50630   1.521800  2020-01-22          0   \n",
       "4            NaN         Angola -11.20270  17.873900  2020-01-22          0   \n",
       "\n",
       "   Deaths  Recovered  Active             WHO Region  \n",
       "0       0          0       0  Eastern Mediterranean  \n",
       "1       0          0       0                 Europe  \n",
       "2       0          0       0                 Africa  \n",
       "3       0          0       0                 Europe  \n",
       "4       0          0       0                 Africa  "
      ]
     },
     "execution_count": 80,
     "metadata": {},
     "output_type": "execute_result"
    }
   ],
   "source": [
    "df.head()"
   ]
  },
  {
   "cell_type": "code",
   "execution_count": 81,
   "metadata": {},
   "outputs": [
    {
     "name": "stdout",
     "output_type": "stream",
     "text": [
      "<class 'pandas.core.frame.DataFrame'>\n",
      "RangeIndex: 49068 entries, 0 to 49067\n",
      "Data columns (total 10 columns):\n",
      " #   Column          Non-Null Count  Dtype  \n",
      "---  ------          --------------  -----  \n",
      " 0   Province/State  14664 non-null  object \n",
      " 1   Country/Region  49068 non-null  object \n",
      " 2   Lat             49068 non-null  float64\n",
      " 3   Long            49068 non-null  float64\n",
      " 4   Date            49068 non-null  object \n",
      " 5   Confirmed       49068 non-null  int64  \n",
      " 6   Deaths          49068 non-null  int64  \n",
      " 7   Recovered       49068 non-null  int64  \n",
      " 8   Active          49068 non-null  int64  \n",
      " 9   WHO Region      49068 non-null  object \n",
      "dtypes: float64(2), int64(4), object(4)\n",
      "memory usage: 3.7+ MB\n"
     ]
    }
   ],
   "source": [
    "df.info()"
   ]
  },
  {
   "cell_type": "code",
   "execution_count": 2,
   "metadata": {},
   "outputs": [],
   "source": [
    "# Hint: Find duplicates if any\n",
    "..."
   ]
  },
  {
   "cell_type": "code",
   "execution_count": 83,
   "metadata": {},
   "outputs": [
    {
     "data": {
      "text/plain": [
       "(49068, 10)"
      ]
     },
     "execution_count": 83,
     "metadata": {},
     "output_type": "execute_result"
    }
   ],
   "source": [
    "df.shape"
   ]
  },
  {
   "cell_type": "code",
   "execution_count": 84,
   "metadata": {},
   "outputs": [
    {
     "data": {
      "text/html": [
       "<div>\n",
       "<style scoped>\n",
       "    .dataframe tbody tr th:only-of-type {\n",
       "        vertical-align: middle;\n",
       "    }\n",
       "\n",
       "    .dataframe tbody tr th {\n",
       "        vertical-align: top;\n",
       "    }\n",
       "\n",
       "    .dataframe thead th {\n",
       "        text-align: right;\n",
       "    }\n",
       "</style>\n",
       "<table border=\"1\" class=\"dataframe\">\n",
       "  <thead>\n",
       "    <tr style=\"text-align: right;\">\n",
       "      <th></th>\n",
       "      <th>Lat</th>\n",
       "      <th>Long</th>\n",
       "      <th>Confirmed</th>\n",
       "      <th>Deaths</th>\n",
       "      <th>Recovered</th>\n",
       "      <th>Active</th>\n",
       "    </tr>\n",
       "  </thead>\n",
       "  <tbody>\n",
       "    <tr>\n",
       "      <th>count</th>\n",
       "      <td>49068.000000</td>\n",
       "      <td>49068.000000</td>\n",
       "      <td>4.906800e+04</td>\n",
       "      <td>49068.000000</td>\n",
       "      <td>4.906800e+04</td>\n",
       "      <td>4.906800e+04</td>\n",
       "    </tr>\n",
       "    <tr>\n",
       "      <th>mean</th>\n",
       "      <td>21.433730</td>\n",
       "      <td>23.528236</td>\n",
       "      <td>1.688490e+04</td>\n",
       "      <td>884.179160</td>\n",
       "      <td>7.915713e+03</td>\n",
       "      <td>8.085012e+03</td>\n",
       "    </tr>\n",
       "    <tr>\n",
       "      <th>std</th>\n",
       "      <td>24.950320</td>\n",
       "      <td>70.442740</td>\n",
       "      <td>1.273002e+05</td>\n",
       "      <td>6313.584411</td>\n",
       "      <td>5.480092e+04</td>\n",
       "      <td>7.625890e+04</td>\n",
       "    </tr>\n",
       "    <tr>\n",
       "      <th>min</th>\n",
       "      <td>-51.796300</td>\n",
       "      <td>-135.000000</td>\n",
       "      <td>0.000000e+00</td>\n",
       "      <td>0.000000</td>\n",
       "      <td>0.000000e+00</td>\n",
       "      <td>-1.400000e+01</td>\n",
       "    </tr>\n",
       "    <tr>\n",
       "      <th>25%</th>\n",
       "      <td>7.873054</td>\n",
       "      <td>-15.310100</td>\n",
       "      <td>4.000000e+00</td>\n",
       "      <td>0.000000</td>\n",
       "      <td>0.000000e+00</td>\n",
       "      <td>0.000000e+00</td>\n",
       "    </tr>\n",
       "    <tr>\n",
       "      <th>50%</th>\n",
       "      <td>23.634500</td>\n",
       "      <td>21.745300</td>\n",
       "      <td>1.680000e+02</td>\n",
       "      <td>2.000000</td>\n",
       "      <td>2.900000e+01</td>\n",
       "      <td>2.600000e+01</td>\n",
       "    </tr>\n",
       "    <tr>\n",
       "      <th>75%</th>\n",
       "      <td>41.204380</td>\n",
       "      <td>80.771797</td>\n",
       "      <td>1.518250e+03</td>\n",
       "      <td>30.000000</td>\n",
       "      <td>6.660000e+02</td>\n",
       "      <td>6.060000e+02</td>\n",
       "    </tr>\n",
       "    <tr>\n",
       "      <th>max</th>\n",
       "      <td>71.706900</td>\n",
       "      <td>178.065000</td>\n",
       "      <td>4.290259e+06</td>\n",
       "      <td>148011.000000</td>\n",
       "      <td>1.846641e+06</td>\n",
       "      <td>2.816444e+06</td>\n",
       "    </tr>\n",
       "  </tbody>\n",
       "</table>\n",
       "</div>"
      ],
      "text/plain": [
       "                Lat          Long     Confirmed         Deaths     Recovered  \\\n",
       "count  49068.000000  49068.000000  4.906800e+04   49068.000000  4.906800e+04   \n",
       "mean      21.433730     23.528236  1.688490e+04     884.179160  7.915713e+03   \n",
       "std       24.950320     70.442740  1.273002e+05    6313.584411  5.480092e+04   \n",
       "min      -51.796300   -135.000000  0.000000e+00       0.000000  0.000000e+00   \n",
       "25%        7.873054    -15.310100  4.000000e+00       0.000000  0.000000e+00   \n",
       "50%       23.634500     21.745300  1.680000e+02       2.000000  2.900000e+01   \n",
       "75%       41.204380     80.771797  1.518250e+03      30.000000  6.660000e+02   \n",
       "max       71.706900    178.065000  4.290259e+06  148011.000000  1.846641e+06   \n",
       "\n",
       "             Active  \n",
       "count  4.906800e+04  \n",
       "mean   8.085012e+03  \n",
       "std    7.625890e+04  \n",
       "min   -1.400000e+01  \n",
       "25%    0.000000e+00  \n",
       "50%    2.600000e+01  \n",
       "75%    6.060000e+02  \n",
       "max    2.816444e+06  "
      ]
     },
     "execution_count": 84,
     "metadata": {},
     "output_type": "execute_result"
    }
   ],
   "source": [
    "df.describe()"
   ]
  },
  {
   "cell_type": "markdown",
   "metadata": {},
   "source": [
    "Observations - Hint: What do you see?:\n",
    "1. Obs1: \n",
    "2. Obs2: "
   ]
  },
  {
   "cell_type": "markdown",
   "metadata": {},
   "source": [
    "Strategy to solve the observation if any issues:\n",
    "1. Solution1: \n",
    "2. Solution2: "
   ]
  },
  {
   "cell_type": "markdown",
   "metadata": {},
   "source": [
    "## Exploratory Data Analysis [EDA]"
   ]
  },
  {
   "cell_type": "code",
   "execution_count": 3,
   "metadata": {},
   "outputs": [],
   "source": [
    "# Hint: Do some plots after cleaning data and provide some insights\n",
    "# Hint: Ask yourself a question before answering it using graph."
   ]
  },
  {
   "cell_type": "markdown",
   "metadata": {},
   "source": [
    "Graph Observations:\n",
    "\n",
    "1. Obs1: \n",
    "2. Obs2: \n"
   ]
  },
  {
   "cell_type": "markdown",
   "metadata": {},
   "source": [
    "# Data Modelling [Machine Learning Model]"
   ]
  },
  {
   "cell_type": "markdown",
   "metadata": {},
   "source": [
    "<img src = basic_modelling1.png>"
   ]
  },
  {
   "cell_type": "markdown",
   "metadata": {},
   "source": [
    "## Machine Learning Model"
   ]
  },
  {
   "cell_type": "markdown",
   "metadata": {},
   "source": [
    "### Linear Regression: Futuristic Question 1: How many deaths expected in the next week?"
   ]
  },
  {
   "cell_type": "markdown",
   "metadata": {},
   "source": [
    "In this section, we ask ourselves a question in the future and can be answered through the use of machine learning linear regression.\n",
    "The question is:\n",
    "- How many deaths expected in the next week?"
   ]
  },
  {
   "cell_type": "code",
   "execution_count": null,
   "metadata": {},
   "outputs": [
    {
     "data": {
      "text/html": [
       "<div>\n",
       "<style scoped>\n",
       "    .dataframe tbody tr th:only-of-type {\n",
       "        vertical-align: middle;\n",
       "    }\n",
       "\n",
       "    .dataframe tbody tr th {\n",
       "        vertical-align: top;\n",
       "    }\n",
       "\n",
       "    .dataframe thead th {\n",
       "        text-align: right;\n",
       "    }\n",
       "</style>\n",
       "<table border=\"1\" class=\"dataframe\">\n",
       "  <thead>\n",
       "    <tr style=\"text-align: right;\">\n",
       "      <th></th>\n",
       "      <th>Actual</th>\n",
       "      <th>Predicted</th>\n",
       "    </tr>\n",
       "    <tr>\n",
       "      <th>Date</th>\n",
       "      <th></th>\n",
       "      <th></th>\n",
       "    </tr>\n",
       "  </thead>\n",
       "  <tbody>\n",
       "    <tr>\n",
       "      <th>2020-07-21</th>\n",
       "      <td>616557</td>\n",
       "      <td>562359.0</td>\n",
       "    </tr>\n",
       "    <tr>\n",
       "      <th>2020-07-22</th>\n",
       "      <td>623540</td>\n",
       "      <td>566176.0</td>\n",
       "    </tr>\n",
       "    <tr>\n",
       "      <th>2020-07-23</th>\n",
       "      <td>633506</td>\n",
       "      <td>569992.0</td>\n",
       "    </tr>\n",
       "    <tr>\n",
       "      <th>2020-07-24</th>\n",
       "      <td>639650</td>\n",
       "      <td>573809.0</td>\n",
       "    </tr>\n",
       "    <tr>\n",
       "      <th>2020-07-25</th>\n",
       "      <td>644517</td>\n",
       "      <td>577625.0</td>\n",
       "    </tr>\n",
       "    <tr>\n",
       "      <th>2020-07-26</th>\n",
       "      <td>648621</td>\n",
       "      <td>581442.0</td>\n",
       "    </tr>\n",
       "    <tr>\n",
       "      <th>2020-07-27</th>\n",
       "      <td>654036</td>\n",
       "      <td>585258.0</td>\n",
       "    </tr>\n",
       "  </tbody>\n",
       "</table>\n",
       "</div>"
      ],
      "text/plain": [
       "            Actual  Predicted\n",
       "Date                         \n",
       "2020-07-21  616557   562359.0\n",
       "2020-07-22  623540   566176.0\n",
       "2020-07-23  633506   569992.0\n",
       "2020-07-24  639650   573809.0\n",
       "2020-07-25  644517   577625.0\n",
       "2020-07-26  648621   581442.0\n",
       "2020-07-27  654036   585258.0"
      ]
     },
     "metadata": {},
     "output_type": "display_data"
    }
   ],
   "source": [
    "# Split the data into training and testing sets, excluding the last 7 days for testing\n",
    "train_data = DEATHS_BY_DATE[:-7] # Filter your aggregated variable from first to latest 7 by [:-7]\n",
    "test_data = DEATHS_BY_DATE[-7:] # Get the latest 7 records\n",
    "X_train = train_data.index.map(pd.Timestamp.toordinal).values.reshape(-1, 1) # create training X using toordinal\n",
    "y_train = train_data.values # the values are the y train\n",
    "X_test = ... # Do the same but for test data\n",
    "y_test = ... # do the same but for test data\n",
    "# Create and fit the model on the training data\n",
    "model = ... # use LinearRegression\n",
    "... # Fit the model using .fit()\n",
    "# Predict on the test set\n",
    "predictions = ... # Predict using .predict()\n",
    "# Combine actual and predicted values into a DataFrame for comparison\n",
    "test_dates = test_data.index\n",
    "predicted_vs_actual = pd.DataFrame({\n",
    "    'Actual': ..., # the y test data?\n",
    "    'Predicted': ... # the predictions? but round them?\n",
    "}, index= ...) # index should be test data\n",
    "... # Display dataframe"
   ]
  },
  {
   "cell_type": "code",
   "execution_count": null,
   "metadata": {},
   "outputs": [
    {
     "data": {
      "image/png": "[encoded data removed]",
      "text/plain": [
       "<Figure size 1000x600 with 1 Axes>"
      ]
     },
     "metadata": {},
     "output_type": "display_data"
    }
   ],
   "source": [
    "# Plotting the actual vs predicted values\n",
    "plt.figure(figsize=(10, 6))\n",
    "# Plot actual values\n",
    "plt.plot_date(test_data.index, y_test, linestyle='solid', marker=None, label='Actual')\n",
    "# Plot predicted values\n",
    "plt.plot_date(test_data.index, predictions.round(0), linestyle='solid', marker=None, label='Predicted')\n",
    "# Adding the legend\n",
    "plt.legend()\n",
    "# Adding a grid\n",
    "plt.grid(True)\n",
    "# Rotate and align the tick labels so they look better\n",
    "plt.gcf().autofmt_xdate()\n",
    "# Set title and labels\n",
    "plt.title('Actual vs Predicted Deaths')\n",
    "plt.xlabel('Date')\n",
    "plt.ylabel('Number of Deaths')\n",
    "# Show plot with tight layout\n",
    "plt.tight_layout()\n",
    "plt.show()\n"
   ]
  },
  {
   "cell_type": "code",
   "execution_count": null,
   "metadata": {},
   "outputs": [
    {
     "data": {
      "text/plain": [
       "(array([3816.55779653]), -2814633718.6689014)"
      ]
     },
     "metadata": {},
     "output_type": "display_data"
    }
   ],
   "source": [
    "... , ... # Use .coef_ and intercept_ in model to identify the weight and bias"
   ]
  },
  {
   "cell_type": "markdown",
   "metadata": {},
   "source": [
    "##### Findings\n",
    "- In my opinion, if we are going to use the Linear Regression, we can choose to start from a point that looks like a line start. It may be after April."
   ]
  },
  {
   "cell_type": "markdown",
   "metadata": {},
   "source": [
    "#### Retrain the model"
   ]
  },
  {
   "cell_type": "code",
   "execution_count": null,
   "metadata": {},
   "outputs": [],
   "source": [
    "DEATHS_BY_DATE = ...[...>='2020-04-01'] #Data after April 2020"
   ]
  },
  {
   "cell_type": "code",
   "execution_count": null,
   "metadata": {},
   "outputs": [
    {
     "data": {
      "text/html": [
       "<div>\n",
       "<style scoped>\n",
       "    .dataframe tbody tr th:only-of-type {\n",
       "        vertical-align: middle;\n",
       "    }\n",
       "\n",
       "    .dataframe tbody tr th {\n",
       "        vertical-align: top;\n",
       "    }\n",
       "\n",
       "    .dataframe thead th {\n",
       "        text-align: right;\n",
       "    }\n",
       "</style>\n",
       "<table border=\"1\" class=\"dataframe\">\n",
       "  <thead>\n",
       "    <tr style=\"text-align: right;\">\n",
       "      <th></th>\n",
       "      <th>Actual</th>\n",
       "      <th>Predicted</th>\n",
       "    </tr>\n",
       "    <tr>\n",
       "      <th>Date</th>\n",
       "      <th></th>\n",
       "      <th></th>\n",
       "    </tr>\n",
       "  </thead>\n",
       "  <tbody>\n",
       "    <tr>\n",
       "      <th>2020-07-21</th>\n",
       "      <td>616557</td>\n",
       "      <td>618630.0</td>\n",
       "    </tr>\n",
       "    <tr>\n",
       "      <th>2020-07-22</th>\n",
       "      <td>623540</td>\n",
       "      <td>623487.0</td>\n",
       "    </tr>\n",
       "    <tr>\n",
       "      <th>2020-07-23</th>\n",
       "      <td>633506</td>\n",
       "      <td>628343.0</td>\n",
       "    </tr>\n",
       "    <tr>\n",
       "      <th>2020-07-24</th>\n",
       "      <td>639650</td>\n",
       "      <td>633200.0</td>\n",
       "    </tr>\n",
       "    <tr>\n",
       "      <th>2020-07-25</th>\n",
       "      <td>644517</td>\n",
       "      <td>638057.0</td>\n",
       "    </tr>\n",
       "    <tr>\n",
       "      <th>2020-07-26</th>\n",
       "      <td>648621</td>\n",
       "      <td>642913.0</td>\n",
       "    </tr>\n",
       "    <tr>\n",
       "      <th>2020-07-27</th>\n",
       "      <td>654036</td>\n",
       "      <td>647770.0</td>\n",
       "    </tr>\n",
       "  </tbody>\n",
       "</table>\n",
       "</div>"
      ],
      "text/plain": [
       "            Actual  Predicted\n",
       "Date                         \n",
       "2020-07-21  616557   618630.0\n",
       "2020-07-22  623540   623487.0\n",
       "2020-07-23  633506   628343.0\n",
       "2020-07-24  639650   633200.0\n",
       "2020-07-25  644517   638057.0\n",
       "2020-07-26  648621   642913.0\n",
       "2020-07-27  654036   647770.0"
      ]
     },
     "metadata": {},
     "output_type": "display_data"
    }
   ],
   "source": [
    "# Split the data into training and testing sets, excluding the last 7 days for testing\n",
    "train_data = ...\n",
    "test_data = ...\n",
    "X_train = train_data.index.map(pd.Timestamp.toordinal).values.reshape(-1, 1)\n",
    "y_train = train_data.values\n",
    "X_test = ...\n",
    "y_test = ...\n",
    "# Create and fit the model on the training data\n",
    "model = LinearRegression()\n",
    "... # Fit the model\n",
    "# Predict on the test set\n",
    "predictions = ...\n",
    "# Combine actual and predicted values into a DataFrame for comparison\n",
    "test_dates = test_data.index\n",
    "predicted_vs_actual = pd.DataFrame({\n",
    "    'Actual': y_test,\n",
    "    'Predicted': predictions.round(0)\n",
    "}, index=test_dates)\n",
    "predicted_vs_actual"
   ]
  },
  {
   "cell_type": "code",
   "execution_count": null,
   "metadata": {},
   "outputs": [
    {
     "data": {
      "image/png": "[encoded data removed]",
      "text/plain": [
       "<Figure size 1000x600 with 1 Axes>"
      ]
     },
     "metadata": {},
     "output_type": "display_data"
    }
   ],
   "source": [
    "# Plotting the actual vs predicted values\n",
    "plt.figure(figsize=(10, 6))\n",
    "# Plot actual values\n",
    "plt.plot_date(test_data.index, y_test, linestyle='solid', marker=None, label='Actual')\n",
    "# Plot predicted values\n",
    "plt.plot_date(test_data.index, predictions.round(0), linestyle='solid', marker=None, label='Predicted')\n",
    "# Adding the legend\n",
    "plt.legend()\n",
    "# Adding a grid\n",
    "plt.grid(True)\n",
    "# Rotate and align the tick labels so they look better\n",
    "plt.gcf().autofmt_xdate()\n",
    "# Set title and labels\n",
    "plt.title('Actual vs Predicted Deaths')\n",
    "plt.xlabel('Date')\n",
    "plt.ylabel('Number of Deaths')\n",
    "# Show plot with tight layout\n",
    "plt.tight_layout()\n",
    "plt.show()"
   ]
  },
  {
   "cell_type": "markdown",
   "metadata": {},
   "source": [
    "What do you see here? ..."
   ]
  },
  {
   "cell_type": "code",
   "execution_count": null,
   "metadata": {},
   "outputs": [
    {
     "data": {
      "text/plain": [
       "(array([4856.63082661]), -3581763396.7528286)"
      ]
     },
     "metadata": {},
     "output_type": "display_data"
    }
   ],
   "source": [
    "model.coef_,model.intercept_"
   ]
  },
  {
   "cell_type": "markdown",
   "metadata": {},
   "source": [
    "### Linear Regression: Futuristic Question 2: Can we infere about deaths using other features rather than date? Example if I have the number of active cases, can I infere about deaths?"
   ]
  },
  {
   "cell_type": "markdown",
   "metadata": {},
   "source": [
    "- In this section, we learn how to find correlation between features to be then used in linear regression modelling.\n",
    "- The groupby is used to find the sum of Deaths,Active,Recovered,Confirmed"
   ]
  },
  {
   "cell_type": "code",
   "execution_count": null,
   "metadata": {},
   "outputs": [],
   "source": [
    "AGG = df.groupby(...,as_index=False)[['Deaths','Active','Recovered','Confirmed']].sum() # Group by date!"
   ]
  },
  {
   "cell_type": "code",
   "execution_count": null,
   "metadata": {},
   "outputs": [
    {
     "data": {
      "text/html": [
       "<div>\n",
       "<style scoped>\n",
       "    .dataframe tbody tr th:only-of-type {\n",
       "        vertical-align: middle;\n",
       "    }\n",
       "\n",
       "    .dataframe tbody tr th {\n",
       "        vertical-align: top;\n",
       "    }\n",
       "\n",
       "    .dataframe thead th {\n",
       "        text-align: right;\n",
       "    }\n",
       "</style>\n",
       "<table border=\"1\" class=\"dataframe\">\n",
       "  <thead>\n",
       "    <tr style=\"text-align: right;\">\n",
       "      <th></th>\n",
       "      <th>Date</th>\n",
       "      <th>Deaths</th>\n",
       "      <th>Active</th>\n",
       "      <th>Recovered</th>\n",
       "      <th>Confirmed</th>\n",
       "    </tr>\n",
       "  </thead>\n",
       "  <tbody>\n",
       "    <tr>\n",
       "      <th>Date</th>\n",
       "      <td>1.000000</td>\n",
       "      <td>0.971103</td>\n",
       "      <td>0.970546</td>\n",
       "      <td>0.884856</td>\n",
       "      <td>0.934989</td>\n",
       "    </tr>\n",
       "    <tr>\n",
       "      <th>Deaths</th>\n",
       "      <td>0.971103</td>\n",
       "      <td>1.000000</td>\n",
       "      <td>0.996879</td>\n",
       "      <td>0.936940</td>\n",
       "      <td>0.975981</td>\n",
       "    </tr>\n",
       "    <tr>\n",
       "      <th>Active</th>\n",
       "      <td>0.970546</td>\n",
       "      <td>0.996879</td>\n",
       "      <td>1.000000</td>\n",
       "      <td>0.953981</td>\n",
       "      <td>0.986543</td>\n",
       "    </tr>\n",
       "    <tr>\n",
       "      <th>Recovered</th>\n",
       "      <td>0.884856</td>\n",
       "      <td>0.936940</td>\n",
       "      <td>0.953981</td>\n",
       "      <td>1.000000</td>\n",
       "      <td>0.990165</td>\n",
       "    </tr>\n",
       "    <tr>\n",
       "      <th>Confirmed</th>\n",
       "      <td>0.934989</td>\n",
       "      <td>0.975981</td>\n",
       "      <td>0.986543</td>\n",
       "      <td>0.990165</td>\n",
       "      <td>1.000000</td>\n",
       "    </tr>\n",
       "  </tbody>\n",
       "</table>\n",
       "</div>"
      ],
      "text/plain": [
       "               Date    Deaths    Active  Recovered  Confirmed\n",
       "Date       1.000000  0.971103  0.970546   0.884856   0.934989\n",
       "Deaths     0.971103  1.000000  0.996879   0.936940   0.975981\n",
       "Active     0.970546  0.996879  1.000000   0.953981   0.986543\n",
       "Recovered  0.884856  0.936940  0.953981   1.000000   0.990165\n",
       "Confirmed  0.934989  0.975981  0.986543   0.990165   1.000000"
      ]
     },
     "metadata": {},
     "output_type": "display_data"
    }
   ],
   "source": [
    "... # Get correlation of AGG"
   ]
  },
  {
   "cell_type": "markdown",
   "metadata": {},
   "source": [
    "## Correlation Exploration"
   ]
  },
  {
   "cell_type": "markdown",
   "metadata": {},
   "source": [
    "- Correlation means the relation between one feature and another. It measures how strong the relationship between two variables "
   ]
  },
  {
   "cell_type": "markdown",
   "metadata": {},
   "source": [
    "<img src = 'corr.png'>"
   ]
  },
  {
   "cell_type": "code",
   "execution_count": null,
   "metadata": {},
   "outputs": [
    {
     "data": {
      "text/plain": [
       "<Axes: >"
      ]
     },
     "metadata": {},
     "output_type": "display_data"
    },
    {
     "data": {
      "image/png": "[encoded data removed]",
      "text/plain": [
       "<Figure size 800x600 with 2 Axes>"
      ]
     },
     "metadata": {},
     "output_type": "display_data"
    }
   ],
   "source": [
    "plt.figure(figsize=(8,6))\n",
    "sb.heatmap(AGG.corr(),annot=True)"
   ]
  },
  {
   "cell_type": "code",
   "execution_count": null,
   "metadata": {},
   "outputs": [],
   "source": [
    "AGG['Date'] = AGG['Date'].map(pd.Timestamp.toordinal).values.reshape(-1, 1) # Converting date to ordinal"
   ]
  },
  {
   "cell_type": "code",
   "execution_count": null,
   "metadata": {},
   "outputs": [
    {
     "data": {
      "text/html": [
       "<div>\n",
       "<style scoped>\n",
       "    .dataframe tbody tr th:only-of-type {\n",
       "        vertical-align: middle;\n",
       "    }\n",
       "\n",
       "    .dataframe tbody tr th {\n",
       "        vertical-align: top;\n",
       "    }\n",
       "\n",
       "    .dataframe thead th {\n",
       "        text-align: right;\n",
       "    }\n",
       "</style>\n",
       "<table border=\"1\" class=\"dataframe\">\n",
       "  <thead>\n",
       "    <tr style=\"text-align: right;\">\n",
       "      <th></th>\n",
       "      <th>Date</th>\n",
       "      <th>Deaths</th>\n",
       "      <th>Active</th>\n",
       "      <th>Recovered</th>\n",
       "      <th>Confirmed</th>\n",
       "    </tr>\n",
       "  </thead>\n",
       "  <tbody>\n",
       "    <tr>\n",
       "      <th>0</th>\n",
       "      <td>737446</td>\n",
       "      <td>17</td>\n",
       "      <td>510</td>\n",
       "      <td>28</td>\n",
       "      <td>555</td>\n",
       "    </tr>\n",
       "  </tbody>\n",
       "</table>\n",
       "</div>"
      ],
      "text/plain": [
       "     Date  Deaths  Active  Recovered  Confirmed\n",
       "0  737446      17     510         28        555"
      ]
     },
     "metadata": {},
     "output_type": "display_data"
    }
   ],
   "source": [
    "AGG.head(1)"
   ]
  },
  {
   "cell_type": "code",
   "execution_count": null,
   "metadata": {},
   "outputs": [
    {
     "data": {
      "text/html": [
       "<div>\n",
       "<style scoped>\n",
       "    .dataframe tbody tr th:only-of-type {\n",
       "        vertical-align: middle;\n",
       "    }\n",
       "\n",
       "    .dataframe tbody tr th {\n",
       "        vertical-align: top;\n",
       "    }\n",
       "\n",
       "    .dataframe thead th {\n",
       "        text-align: right;\n",
       "    }\n",
       "</style>\n",
       "<table border=\"1\" class=\"dataframe\">\n",
       "  <thead>\n",
       "    <tr style=\"text-align: right;\">\n",
       "      <th></th>\n",
       "      <th>Actual</th>\n",
       "      <th>Predicted</th>\n",
       "    </tr>\n",
       "  </thead>\n",
       "  <tbody>\n",
       "    <tr>\n",
       "      <th>181</th>\n",
       "      <td>616557</td>\n",
       "      <td>616557.0</td>\n",
       "    </tr>\n",
       "    <tr>\n",
       "      <th>182</th>\n",
       "      <td>623540</td>\n",
       "      <td>623540.0</td>\n",
       "    </tr>\n",
       "    <tr>\n",
       "      <th>183</th>\n",
       "      <td>633506</td>\n",
       "      <td>633506.0</td>\n",
       "    </tr>\n",
       "    <tr>\n",
       "      <th>184</th>\n",
       "      <td>639650</td>\n",
       "      <td>639650.0</td>\n",
       "    </tr>\n",
       "    <tr>\n",
       "      <th>185</th>\n",
       "      <td>644517</td>\n",
       "      <td>644517.0</td>\n",
       "    </tr>\n",
       "    <tr>\n",
       "      <th>186</th>\n",
       "      <td>648621</td>\n",
       "      <td>648621.0</td>\n",
       "    </tr>\n",
       "    <tr>\n",
       "      <th>187</th>\n",
       "      <td>654036</td>\n",
       "      <td>654036.0</td>\n",
       "    </tr>\n",
       "  </tbody>\n",
       "</table>\n",
       "</div>"
      ],
      "text/plain": [
       "     Actual  Predicted\n",
       "181  616557   616557.0\n",
       "182  623540   623540.0\n",
       "183  633506   633506.0\n",
       "184  639650   639650.0\n",
       "185  644517   644517.0\n",
       "186  648621   648621.0\n",
       "187  654036   654036.0"
      ]
     },
     "metadata": {},
     "output_type": "display_data"
    }
   ],
   "source": [
    "# Split the data into training and testing sets, excluding the last 7 days for testing\n",
    "train_data = AGG[:-7]\n",
    "test_data = AGG[-7:]\n",
    "X_train = train_data.values[:,[0,2,3,4]] # Selecting only the needed features (0,2,3,4 are the column indexes)\n",
    "y_train = train_data.values[:,1] #deaths\n",
    "X_test = ...\n",
    "y_test = ...\n",
    "# Create and fit the model on the training data\n",
    "model = LinearRegression()\n",
    "... # Fit the model\n",
    "# Predict on the test set\n",
    "predictions = ...\n",
    "# Combine actual and predicted values into a DataFrame for comparison\n",
    "test_dates = test_data.index\n",
    "predicted_vs_actual = pd.DataFrame({\n",
    "    'Actual': y_test,\n",
    "    'Predicted': predictions.round(0)\n",
    "}, index=test_dates)\n",
    "predicted_vs_actual"
   ]
  },
  {
   "cell_type": "code",
   "execution_count": null,
   "metadata": {},
   "outputs": [
    {
     "data": {
      "text/plain": [
       "(array([-4.19404685e-11, -1.00000000e+00, -1.00000000e+00,  1.00000000e+00]),\n",
       " 3.0929979402571917e-05)"
      ]
     },
     "metadata": {},
     "output_type": "display_data"
    }
   ],
   "source": [
    "model.coef_,model.intercept_"
   ]
  },
  {
   "cell_type": "markdown",
   "metadata": {},
   "source": [
    "## Lab Work: Build your own model to answer the following question: - How many recovery are expected to occur in the next 10 days? \n",
    "- Note: You are allowed to use multiple features as input, you can use the correlation matrix to find relation between features"
   ]
  },
  {
   "cell_type": "code",
   "execution_count": null,
   "metadata": {},
   "outputs": [
    {
     "data": {
      "text/html": [
       "<div>\n",
       "<style scoped>\n",
       "    .dataframe tbody tr th:only-of-type {\n",
       "        vertical-align: middle;\n",
       "    }\n",
       "\n",
       "    .dataframe tbody tr th {\n",
       "        vertical-align: top;\n",
       "    }\n",
       "\n",
       "    .dataframe thead th {\n",
       "        text-align: right;\n",
       "    }\n",
       "</style>\n",
       "<table border=\"1\" class=\"dataframe\">\n",
       "  <thead>\n",
       "    <tr style=\"text-align: right;\">\n",
       "      <th></th>\n",
       "      <th>Actual</th>\n",
       "      <th>Predicted</th>\n",
       "    </tr>\n",
       "  </thead>\n",
       "  <tbody>\n",
       "    <tr>\n",
       "      <th>178</th>\n",
       "      <td>7944550</td>\n",
       "      <td>7944550.0</td>\n",
       "    </tr>\n",
       "    <tr>\n",
       "      <th>179</th>\n",
       "      <td>8032235</td>\n",
       "      <td>8032235.0</td>\n",
       "    </tr>\n",
       "    <tr>\n",
       "      <th>180</th>\n",
       "      <td>8190777</td>\n",
       "      <td>8190777.0</td>\n",
       "    </tr>\n",
       "    <tr>\n",
       "      <th>181</th>\n",
       "      <td>8364986</td>\n",
       "      <td>8364986.0</td>\n",
       "    </tr>\n",
       "    <tr>\n",
       "      <th>182</th>\n",
       "      <td>8541255</td>\n",
       "      <td>8541255.0</td>\n",
       "    </tr>\n",
       "    <tr>\n",
       "      <th>183</th>\n",
       "      <td>8710969</td>\n",
       "      <td>8710969.0</td>\n",
       "    </tr>\n",
       "    <tr>\n",
       "      <th>184</th>\n",
       "      <td>8939705</td>\n",
       "      <td>8939705.0</td>\n",
       "    </tr>\n",
       "    <tr>\n",
       "      <th>185</th>\n",
       "      <td>9158743</td>\n",
       "      <td>9158743.0</td>\n",
       "    </tr>\n",
       "    <tr>\n",
       "      <th>186</th>\n",
       "      <td>9293464</td>\n",
       "      <td>9293464.0</td>\n",
       "    </tr>\n",
       "    <tr>\n",
       "      <th>187</th>\n",
       "      <td>9468087</td>\n",
       "      <td>9468087.0</td>\n",
       "    </tr>\n",
       "  </tbody>\n",
       "</table>\n",
       "</div>"
      ],
      "text/plain": [
       "      Actual  Predicted\n",
       "178  7944550  7944550.0\n",
       "179  8032235  8032235.0\n",
       "180  8190777  8190777.0\n",
       "181  8364986  8364986.0\n",
       "182  8541255  8541255.0\n",
       "183  8710969  8710969.0\n",
       "184  8939705  8939705.0\n",
       "185  9158743  9158743.0\n",
       "186  9293464  9293464.0\n",
       "187  9468087  9468087.0"
      ]
     },
     "metadata": {},
     "output_type": "display_data"
    }
   ],
   "source": [
    "# Split the data into training and testing sets, excluding the last 7 days for testing\n",
    "train_data = AGG[:-10]\n",
    "test_data = AGG[-10:]\n",
    "X_train = ...\n",
    "y_train = train_data.values[:,3] # Corresponding index\n",
    "X_test = ...\n",
    "y_test = ...\n",
    "# Create and fit the model on the training data\n",
    "model = LinearRegression()\n",
    "... # Fit the model\n",
    "# Predict on the test set\n",
    "predictions = ... # Predict\n",
    "# Combine actual and predicted values into a DataFrame for comparison\n",
    "test_dates = test_data.index\n",
    "predicted_vs_actual = pd.DataFrame({\n",
    "    'Actual': y_test,\n",
    "    'Predicted': predictions.round(0)\n",
    "}, index=test_dates)\n",
    "predicted_vs_actual"
   ]
  },
  {
   "cell_type": "code",
   "execution_count": null,
   "metadata": {},
   "outputs": [
    {
     "data": {
      "text/plain": [
       "3.469446951953614e-18"
      ]
     },
     "metadata": {},
     "output_type": "display_data"
    }
   ],
   "source": [
    "... # Use mean_squared_error to get difference between predicted and actual"
   ]
  },
  {
   "cell_type": "markdown",
   "metadata": {},
   "source": [
    "# Classification Problem: New dataset of detailed Covid-19 individual results"
   ]
  },
  {
   "cell_type": "markdown",
   "metadata": {},
   "source": [
    "# Logistic Regression\n",
    "\n",
    "Logistic Regression is a statistical and machine learning technique used for classification tasks, particularly binary classification. It is used to predict the probability of a target variable (dependent variable) based on one or more predictor variables (independent variables). Despite its name, logistic regression is used for classification rather than regression tasks.\n",
    "\n",
    "### Input:\n",
    "- **Predictor Variables (Features)**: The input to logistic regression can be one or more predictor variables (X) that can be either continuous or categorical. These variables are used to predict the outcome of the target variable.\n",
    "- **Target Variable (Label)**: The target variable (Y) in logistic regression is binary, meaning it can take on only two possible outcomes. For example, \"1\" for success and \"0\" for failure, or \"yes\" for presence and \"no\" for absence of a condition.\n",
    "\n",
    "### Output:\n",
    "- **Probability**: The output of logistic regression is a probability that ranges between 0 and 1. This probability represents the likelihood of the target variable being in one of the two classes (e.g., 1 or 0, yes or no). Based on a threshold (commonly 0.5), the model assigns each observation to one of the two classes.\n",
    "\n",
    "### How It Works:\n",
    "1. **Logistic Function (Sigmoid Function)**: Logistic regression uses the logistic (sigmoid) function to model the probability that each input belongs to a particular category. The sigmoid function outputs a value between 0 and 1, which is interpreted as a probability. The function is defined as:\n",
    "$$ P(Y=1) = \\frac{1}{1 + e^{-(\\beta_0 + \\beta_1X_1 + \\dots + \\beta_kX_k)}} $$\n",
    "\n",
    "- **Where:**\n",
    "\n",
    "    - **P(Y=1)**: is the probability that the target variable Y is in class 1.\n",
    "    - **e**: is the base of the natural logarithm.\n",
    "    - **β0, β1, ..., βk**: are the coefficients of the model.\n",
    "    - **X1, ..., Xk**: are the predictor variables.\n",
    "\n",
    "2. **Estimating Coefficients**: The coefficients (\\(\\beta\\)) of the logistic regression model are estimated using maximum likelihood estimation (MLE). This method finds the set of coefficients that maximizes the likelihood of the observed set of responses with the given set of predictor variables.\n",
    "\n",
    "3. **Decision Boundary**: Logistic regression models the decision boundary between the classes. The decision boundary can be linear or nonlinear, depending on the logistic regression variant used (e.g., linear logistic regression or logistic regression with polynomial features).\n",
    "\n",
    "4. **Classification and Probability Estimation**: Once the model is trained (i.e., the coefficients are estimated), it can be used to predict the probability of new observations belonging to each class. If the predicted probability is greater than or equal to 0.5, the observation is classified into class 1; otherwise, it is classified into class 0.\n",
    "\n",
    "Logistic regression is widely used in various fields such as medicine, finance, and social sciences for binary classification problems because of its simplicity, interpretability, and effectiveness in situations where the relationship between the predictor variables and the log odds of the outcome is approximately linear."
   ]
  },
  {
   "cell_type": "markdown",
   "metadata": {},
   "source": [
    "- The data acquired:\n",
    "    - Attribute\n",
    "    - Description\n",
    "    - Clean data\n",
    "- Problem statement\n",
    "    - Assessing the data\n",
    "    - Problem formulation [Classification or Regression]\n",
    "- Modelling\n",
    "    - Model initiation \n",
    "        - from sklearn.linear_model import LogisticRegression\n",
    "        - model = LogisiticRegression()\n",
    "    - Training and Testing split for the data\n",
    "        - from sklearn.model_selection import train_test_split\n",
    "        - X_train, X_test, y_train, y_test = train_test_split(X, y)\n",
    "    - Model fitting\n",
    "        - model.fit(X_train,y_train)\n",
    "    - Model predict\n",
    "        - y_pred = model.precit(X_test)\n",
    "    - Model evaluate\n",
    "        - Comparison between the y_pred and actual y."
   ]
  },
  {
   "cell_type": "markdown",
   "metadata": {},
   "source": [
    "### Data Wrangling [Data Preparation]"
   ]
  },
  {
   "cell_type": "markdown",
   "metadata": {},
   "source": [
    "\n",
    "**Covid-19 Classification Data**\n",
    "\n",
    "Contains a vast number of anonymized patient-related information including pre-conditions. The raw dataset consists of 21 different features and 1,048,576 unique patients. In the Boolean features, 1 means \"yes\" and 2 means \"no\". values as 97 and 99 are missing data.\n",
    "\n",
    "Dataset Source: https://www.kaggle.com/datasets/meirnizri/covid19-dataset?resource=download\n",
    "\n",
    "**Attributes** :\n",
    " \n",
    "content\n",
    "The dataset was provided by the Mexican government (link). This dataset contains an enormous number of anonymized patient-related information including pre-conditions. The raw dataset consists of 21 unique features and 1,048,576 unique patients. In the Boolean features, 1 means \"yes\" and 2 means \"no\". values as 97 and 99 are missing data.\n",
    "\n",
    "- sex: 1 for female and 2 for male.\n",
    "- age: of the patient.\n",
    "- classification: covid test findings. Values 1-3 mean that the patient was diagnosed with covid in different degrees. 4 or higher means that the patient is not a carrier of covid or that the test is inconclusive.\n",
    "- patient type: type of care the patient received in the unit. 1 for returned home and 2 for hospitalization.\n",
    "- pneumonia: whether the patient already have air sacs inflammation or not.\n",
    "- pregnancy: whether the patient is pregnant or not.\n",
    "- diabetes: whether the patient has diabetes or not.\n",
    "- copd: Indicates whether the patient has Chronic obstructive pulmonary disease or not.\n",
    "- asthma: whether the patient has asthma or not.\n",
    "- inmsupr: whether the patient is immunosuppressed or not.\n",
    "- hypertension: whether the patient has hypertension or not.\n",
    "- cardiovascular: whether the patient has heart or blood vessels related disease.\n",
    "- renal chronic: whether the patient has chronic renal disease or not.\n",
    "- other disease: whether the patient has other disease or not.\n",
    "- obesity: whether the patient is obese or not.\n",
    "- tobacco: whether the patient is a tobacco user.\n",
    "- usmr: Indicates whether the patient treated medical units of the first, second or third level.\n",
    "- medical unit: type of institution of the National Health System that provided the care.\n",
    "- intubed: whether the patient was connected to the ventilator.\n",
    "- icu: Indicates whether the patient had been admitted to an Intensive Care Unit.\n",
    "- date died: If the patient died indicate the date of death, and 9999-99-99 otherwise."
   ]
  }
 ],
 "metadata": {
  "kernelspec": {
   "display_name": "mitocluster",
   "language": "python",
   "name": "python3"
  },
  "language_info": {
   "codemirror_mode": {
    "name": "ipython",
    "version": 3
   },
   "file_extension": ".py",
   "mimetype": "text/x-python",
   "name": "python",
   "nbconvert_exporter": "python",
   "pygments_lexer": "ipython3",
   "version": "3.11.5"
  }
 },
 "nbformat": 4,
 "nbformat_minor": 2
}
